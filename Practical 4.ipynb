{
 "cells": [
  {
   "cell_type": "markdown",
   "id": "e6d9838f",
   "metadata": {},
   "source": [
    "# Problem Statement - To apply the artificial immune pattern recognition to perform a task of structure damage Classification."
   ]
  },
  {
   "cell_type": "code",
   "execution_count": 1,
   "id": "523df4d8",
   "metadata": {},
   "outputs": [],
   "source": [
    "import numpy as np"
   ]
  },
  {
   "cell_type": "code",
   "execution_count": 2,
   "id": "202b8a8d",
   "metadata": {},
   "outputs": [],
   "source": [
    "# Generate dummy data for demonstration purposes (replace this with your actual data)\n",
    "def generate_dummy_data(samples=100, features=10):\n",
    "    data = np.random.rand(samples, features)\n",
    "    labels = np.random.randint(0, 2, size=samples)\n",
    "    return data, labels"
   ]
  },
  {
   "cell_type": "code",
   "execution_count": 3,
   "id": "9f0233ec",
   "metadata": {},
   "outputs": [],
   "source": [
    "# Define the AIRS algorithm\n",
    "class AIRS:\n",
    "    def __init__(self, num_detectors=10, hypermutation_rate=0.1):\n",
    "        self.num_detectors = num_detectors\n",
    "        self.hypermutation_rate = hypermutation_rate\n",
    " \n",
    "    def train(self, X, y):\n",
    "        self.detectors = X[np.random.choice(len(X), self.num_detectors, replace=False)]\n",
    " \n",
    "    def predict(self, X):\n",
    "        predictions = []\n",
    "        for sample in X:\n",
    "            distances = np.linalg.norm(self.detectors - sample, axis=1)\n",
    "            prediction = int(np.argmin(distances))\n",
    "            predictions.append(prediction)\n",
    "        return predictions"
   ]
  },
  {
   "cell_type": "code",
   "execution_count": 4,
   "id": "9d37fc0d",
   "metadata": {},
   "outputs": [],
   "source": [
    "# Generate dummy data\n",
    "data, labels = generate_dummy_data()"
   ]
  },
  {
   "cell_type": "code",
   "execution_count": 5,
   "id": "e8548fd7",
   "metadata": {},
   "outputs": [],
   "source": [
    "# Split data into training and testing sets\n",
    "split_ratio = 0.8\n",
    "split_index = int(split_ratio * len(data))\n",
    "train_data, test_data = data[:split_index], data[split_index:]\n",
    "train_labels, test_labels = labels[:split_index], labels[split_index:]"
   ]
  },
  {
   "cell_type": "code",
   "execution_count": 6,
   "id": "29a25f5b",
   "metadata": {},
   "outputs": [],
   "source": [
    "# Initialize and train AIRS\n",
    "airs = AIRS(num_detectors=10, hypermutation_rate=0.1)\n",
    "airs.train(train_data, train_labels)"
   ]
  },
  {
   "cell_type": "code",
   "execution_count": 7,
   "id": "a1246acf",
   "metadata": {},
   "outputs": [],
   "source": [
    "# Test AIRS on the test set\n",
    "predictions = airs.predict(test_data)"
   ]
  },
  {
   "cell_type": "code",
   "execution_count": 8,
   "id": "557d2154",
   "metadata": {},
   "outputs": [
    {
     "name": "stdout",
     "output_type": "stream",
     "text": [
      "Accuracy: 0.05\n"
     ]
    }
   ],
   "source": [
    "# Evaluate accuracy\n",
    "accuracy = np.mean(predictions == test_labels)\n",
    "print(f\"Accuracy: {accuracy}\")"
   ]
  },
  {
   "cell_type": "code",
   "execution_count": null,
   "id": "68e7d8c8",
   "metadata": {},
   "outputs": [],
   "source": []
  }
 ],
 "metadata": {
  "kernelspec": {
   "display_name": "Python 3 (ipykernel)",
   "language": "python",
   "name": "python3"
  },
  "language_info": {
   "codemirror_mode": {
    "name": "ipython",
    "version": 3
   },
   "file_extension": ".py",
   "mimetype": "text/x-python",
   "name": "python",
   "nbconvert_exporter": "python",
   "pygments_lexer": "ipython3",
   "version": "3.12.0"
  }
 },
 "nbformat": 4,
 "nbformat_minor": 5
}
