{
 "cells": [
  {
   "cell_type": "markdown",
   "id": "771fa0c2",
   "metadata": {},
   "source": [
    "# 4 Load Balancer "
   ]
  },
  {
   "cell_type": "code",
   "execution_count": 1,
   "id": "cc710b3d",
   "metadata": {
    "scrolled": false
   },
   "outputs": [
    {
     "name": "stdout",
     "output_type": "stream",
     "text": [
      "Round Robin Load Balancer\n",
      "Request 1 routed to Server1\n",
      "Request 2 routed to Server2\n",
      "Request 3 routed to Server3\n",
      "Request 4 routed to Server1\n",
      "Request 5 routed to Server2\n",
      "Request 6 routed to Server3\n",
      "Request 7 routed to Server1\n",
      "Request 8 routed to Server2\n",
      "Request 9 routed to Server3\n",
      "Request 10 routed to Server1\n",
      "\n",
      "Random Load Balancer\n",
      "Request 1 routed to Server1\n",
      "Request 2 routed to Server1\n",
      "Request 3 routed to Server3\n",
      "Request 4 routed to Server1\n",
      "Request 5 routed to Server2\n",
      "Request 6 routed to Server1\n",
      "Request 7 routed to Server3\n",
      "Request 8 routed to Server3\n",
      "Request 9 routed to Server2\n",
      "Request 10 routed to Server2\n"
     ]
    }
   ],
   "source": [
    "import random \n",
    "Servers = [\"Server1\", \"Server2\" , \"Server3\"]\n",
    "\n",
    "class RoundRobin():\n",
    "    def __init__(self, servers):\n",
    "        self.servers = Servers\n",
    "        self.current_index = 0\n",
    "    \n",
    "    def get_server(self):\n",
    "        server = self.servers[self.current_index]\n",
    "        self.current_index = (self.current_index + 1) % len(self.servers)\n",
    "        return server\n",
    "    \n",
    "class Random():\n",
    "    def __init__(self, servers):\n",
    "        self.servers = Servers\n",
    "        \n",
    "    def get_server(self):\n",
    "        return random.choice(self.servers)\n",
    "    \n",
    "def stimulate_requests(load_balancer, num_requests):\n",
    "    for i in  range(1, num_requests + 1):\n",
    "        server = load_balancer.get_server()\n",
    "        print(f\"Request {i} routed to {server}\")\n",
    "        \n",
    "if __name__ == '__main__':\n",
    "    print(\"Round Robin Load Balancer\")\n",
    "    round_robin_lb = RoundRobin(Servers)\n",
    "    stimulate_requests(round_robin_lb, 10)\n",
    "    \n",
    "    print(\"\\nRandom Load Balancer\")\n",
    "    random_lb = Random(Servers)\n",
    "    stimulate_requests(random_lb, 10)"
   ]
  },
  {
   "cell_type": "code",
   "execution_count": null,
   "id": "c76753a3",
   "metadata": {},
   "outputs": [],
   "source": []
  },
  {
   "cell_type": "code",
   "execution_count": null,
   "id": "f0c2da31",
   "metadata": {},
   "outputs": [],
   "source": []
  },
  {
   "cell_type": "markdown",
   "id": "b061d859",
   "metadata": {},
   "source": [
    "# 5) \n",
    "Clonal "
   ]
  },
  {
   "cell_type": "code",
   "execution_count": 2,
   "id": "fc9e13fe",
   "metadata": {},
   "outputs": [
    {
     "name": "stdout",
     "output_type": "stream",
     "text": [
      "Generation 1: Best Fitness = 1.84001\n",
      "Generation 2: Best Fitness = 1.84001\n",
      "Generation 3: Best Fitness = 1.84001\n",
      "Generation 4: Best Fitness = 1.84001\n",
      "Generation 5: Best Fitness = 1.84001\n",
      "Generation 6: Best Fitness = 1.84001\n",
      "Generation 7: Best Fitness = 1.84001\n",
      "Generation 8: Best Fitness = 1.84001\n",
      "Generation 9: Best Fitness = 1.84001\n",
      "Generation 10: Best Fitness = 1.84001\n",
      "Generation 11: Best Fitness = 1.84001\n",
      "Generation 12: Best Fitness = 1.84001\n",
      "Generation 13: Best Fitness = 1.84001\n",
      "Generation 14: Best Fitness = 1.84001\n",
      "Generation 15: Best Fitness = 1.84001\n",
      "Generation 16: Best Fitness = 1.84001\n",
      "Generation 17: Best Fitness = 1.84001\n",
      "Generation 18: Best Fitness = 1.84001\n",
      "Generation 19: Best Fitness = 1.84001\n",
      "Generation 20: Best Fitness = 1.84001\n",
      "Generation 21: Best Fitness = 1.84001\n",
      "Generation 22: Best Fitness = 1.84001\n",
      "Generation 23: Best Fitness = 1.84001\n",
      "Generation 24: Best Fitness = 1.84001\n",
      "Generation 25: Best Fitness = 1.84001\n",
      "Generation 26: Best Fitness = 1.84001\n",
      "Generation 27: Best Fitness = 1.84001\n",
      "Generation 28: Best Fitness = 1.84001\n",
      "Generation 29: Best Fitness = 1.84001\n",
      "Generation 30: Best Fitness = 1.84001\n",
      "Generation 31: Best Fitness = 1.84001\n",
      "Generation 32: Best Fitness = 1.84001\n",
      "Generation 33: Best Fitness = 1.84001\n",
      "Generation 34: Best Fitness = 1.84001\n",
      "Generation 35: Best Fitness = 1.84001\n",
      "Generation 36: Best Fitness = 1.84001\n",
      "Generation 37: Best Fitness = 1.84001\n",
      "Generation 38: Best Fitness = 1.84001\n",
      "Generation 39: Best Fitness = 1.84001\n",
      "Generation 40: Best Fitness = 1.84001\n",
      "Generation 41: Best Fitness = 1.84001\n",
      "Generation 42: Best Fitness = 1.84001\n",
      "Generation 43: Best Fitness = 1.84001\n",
      "Generation 44: Best Fitness = 1.84001\n",
      "Generation 45: Best Fitness = 1.84001\n",
      "Generation 46: Best Fitness = 1.84001\n",
      "Generation 47: Best Fitness = 1.84001\n",
      "Generation 48: Best Fitness = 1.84001\n",
      "Generation 49: Best Fitness = 1.84001\n",
      "Generation 50: Best Fitness = 1.84001\n"
     ]
    },
    {
     "data": {
      "image/png": "[encoded data removed]",
      "text/plain": [
       "<Figure size 640x480 with 1 Axes>"
      ]
     },
     "metadata": {},
     "output_type": "display_data"
    }
   ],
   "source": [
    "import numpy as np\n",
    "import matplotlib.pyplot as plt\n",
    "\n",
    "# Objective Function\n",
    "def objective_function(x):\n",
    "    return x * np.sin(10 * np.pi * x) + 1.0\n",
    "\n",
    "# Parameters\n",
    "population_size = 20\n",
    "num_generations = 50\n",
    "clone_factor = 5\n",
    "mutation_rate = 0.1\n",
    "dimension = 1\n",
    "lower_bound, upper_bound = 0.0, 1.0\n",
    "\n",
    "# Initialize population\n",
    "def initialize_population():\n",
    "    return np.random.uniform(lower_bound, upper_bound, (population_size, dimension))\n",
    "\n",
    "# Evaluate population fitness\n",
    "def evaluate_population(population):\n",
    "    return np.array([objective_function(ind[0]) for ind in population])\n",
    "\n",
    "# Clone best individuals\n",
    "def clone_population(population, fitness):\n",
    "    sorted_indices = np.argsort(-fitness)\n",
    "    clones = []\n",
    "    for i in sorted_indices:\n",
    "        num_clones = int(clone_factor)\n",
    "        clones += [population[i].copy() for _ in range(num_clones)]\n",
    "    return np.array(clones)\n",
    "\n",
    "# Hypermutation (inverse to fitness)\n",
    "def hypermutate(clones, fitness):\n",
    "    max_fitness = max(fitness)\n",
    "    mutated = []\n",
    "    for i, clone in enumerate(clones):\n",
    "        rate = mutation_rate * (1 - (fitness[i] / max_fitness))\n",
    "        mutation = np.random.normal(0, rate, size=dimension)\n",
    "        new_clone = np.clip(clone + mutation, lower_bound, upper_bound)\n",
    "        mutated.append(new_clone)\n",
    "    return np.array(mutated)\n",
    "\n",
    "# Selection\n",
    "def select_population(mutated_clones, population_size):\n",
    "    fitness = evaluate_population(mutated_clones)\n",
    "    sorted_indices = np.argsort(-fitness)\n",
    "    return mutated_clones[sorted_indices[:population_size]]\n",
    "\n",
    "# CSA Main Loop\n",
    "def clonal_selection_algorithm():\n",
    "    population = initialize_population()\n",
    "    best_fitness_over_time = []\n",
    "\n",
    "    for gen in range(num_generations):\n",
    "        fitness = evaluate_population(population)\n",
    "        clones = clone_population(population, fitness)\n",
    "        clone_fitness = evaluate_population(clones)\n",
    "        mutated_clones = hypermutate(clones, clone_fitness)\n",
    "        population = select_population(mutated_clones, population_size)\n",
    "        best_fitness = np.max(evaluate_population(population))\n",
    "        best_fitness_over_time.append(best_fitness)\n",
    "        print(f\"Generation {gen+1}: Best Fitness = {best_fitness:.5f}\")\n",
    "\n",
    "    return population, best_fitness_over_time\n",
    "\n",
    "# Run\n",
    "final_population, fitness_curve = clonal_selection_algorithm()\n",
    "\n",
    "# Plot\n",
    "plt.plot(fitness_curve)\n",
    "plt.title(\"Fitness over Generations\")\n",
    "plt.xlabel(\"Generation\")\n",
    "plt.ylabel(\"Best Fitness\")\n",
    "plt.grid()\n",
    "plt.show()\n"
   ]
  },
  {
   "cell_type": "code",
   "execution_count": 3,
   "id": "77a9588f",
   "metadata": {},
   "outputs": [
    {
     "name": "stdout",
     "output_type": "stream",
     "text": [
      "\n",
      "Generation 1\n",
      "Best solution: x = 0.8603, fitness = 1.8156\n",
      "\n",
      "Generation 2\n",
      "Best solution: x = 0.8467, fitness = 1.8421\n",
      "\n",
      "Generation 3\n",
      "Best solution: x = 0.8478, fitness = 1.8458\n",
      "\n",
      "Generation 4\n",
      "Best solution: x = 0.8506, fitness = 1.8505\n",
      "\n",
      "Generation 5\n",
      "Best solution: x = 0.8573, fitness = 1.8351\n",
      "\n",
      "Generation 6\n",
      "Best solution: x = 0.8507, fitness = 1.8505\n",
      "\n",
      "Generation 7\n",
      "Best solution: x = 0.8595, fitness = 1.8212\n",
      "\n",
      "Generation 8\n",
      "Best solution: x = 0.8508, fitness = 1.8505\n",
      "\n",
      "Generation 9\n",
      "Best solution: x = 0.8510, fitness = 1.8506\n",
      "\n",
      "Generation 10\n",
      "Best solution: x = 0.8573, fitness = 1.8347\n",
      "\n",
      "Generation 11\n",
      "Best solution: x = 0.8550, fitness = 1.8445\n",
      "\n",
      "Generation 12\n",
      "Best solution: x = 0.8513, fitness = 1.8506\n",
      "\n",
      "Generation 13\n",
      "Best solution: x = 0.8580, fitness = 1.8309\n",
      "\n",
      "Generation 14\n",
      "Best solution: x = 0.8539, fitness = 1.8475\n",
      "\n",
      "Generation 15\n",
      "Best solution: x = 0.8567, fitness = 1.8378\n",
      "\n",
      "Generation 16\n",
      "Best solution: x = 0.8502, fitness = 1.8502\n",
      "\n",
      "Generation 17\n",
      "Best solution: x = 0.8388, fitness = 1.7874\n",
      "\n",
      "Generation 18\n",
      "Best solution: x = 0.8501, fitness = 1.8501\n",
      "\n",
      "Generation 19\n",
      "Best solution: x = 0.8514, fitness = 1.8506\n",
      "\n",
      "Generation 20\n",
      "Best solution: x = 0.8599, fitness = 1.8188\n",
      "\n",
      "Generation 21\n",
      "Best solution: x = 0.8482, fitness = 1.8469\n",
      "\n",
      "Generation 22\n",
      "Best solution: x = 0.8484, fitness = 1.8472\n",
      "\n",
      "Generation 23\n",
      "Best solution: x = 0.8540, fitness = 1.8473\n",
      "\n",
      "Generation 24\n",
      "Best solution: x = 0.8461, fitness = 1.8398\n",
      "\n",
      "Generation 25\n",
      "Best solution: x = 0.8523, fitness = 1.8500\n",
      "\n",
      "=== Final Best Solution ===\n",
      "x = 0.8523, fitness = 1.8500\n"
     ]
    }
   ],
   "source": [
    "import random\n",
    "import math\n",
    "\n",
    "# Objective Function (You can change this to your problem)\n",
    "def objective_function(x):\n",
    "    return x * math.sin(10 * math.pi * x) + 1\n",
    "\n",
    "# Create a random antibody (solution)\n",
    "def create_antibody():\n",
    "    return random.uniform(0, 1)\n",
    "\n",
    "# Mutate an antibody slightly\n",
    "def mutate(antibody, mutation_rate=0.1):\n",
    "    mutated = antibody + random.uniform(-mutation_rate, mutation_rate)\n",
    "    # Keep x within [0,1]\n",
    "    return max(0, min(1, mutated))\n",
    "\n",
    "# Clonal Selection Algorithm\n",
    "def clonal_selection_algorithm(population_size=10, clones_per_antibody=5, generations=25):\n",
    "    # Initialize population\n",
    "    population = [create_antibody() for _ in range(population_size)]\n",
    "\n",
    "    for generation in range(generations):\n",
    "        print(f\"\\nGeneration {generation+1}\")\n",
    "        \n",
    "        # Evaluate fitness\n",
    "        fitness = [objective_function(antibody) for antibody in population]\n",
    "        \n",
    "        # Select best antibodies (high fitness)\n",
    "        selected = [x for _, x in sorted(zip(fitness, population), reverse=True)][:population_size//2]\n",
    "\n",
    "        clones = []\n",
    "        for antibody in selected:\n",
    "            # Clone and mutate\n",
    "            for _ in range(clones_per_antibody):\n",
    "                clone = mutate(antibody)\n",
    "                clones.append(clone)\n",
    "\n",
    "        # Evaluate clones\n",
    "        clone_fitness = [objective_function(clone) for clone in clones]\n",
    "        \n",
    "        # Select best antibodies from clones\n",
    "        best_clones = [x for _, x in sorted(zip(clone_fitness, clones), reverse=True)][:population_size]\n",
    "        \n",
    "        # Replace population with best clones\n",
    "        population = best_clones\n",
    "        \n",
    "        # Print the best antibody so far\n",
    "        best = max(population, key=lambda x: objective_function(x))\n",
    "        print(f\"Best solution: x = {best:.4f}, fitness = {objective_function(best):.4f}\")\n",
    "\n",
    "    # Return the best solution\n",
    "    best = max(population, key=lambda x: objective_function(x))\n",
    "    return best, objective_function(best)\n",
    "\n",
    "if __name__ == \"__main__\":\n",
    "    best_solution, best_fitness = clonal_selection_algorithm()\n",
    "    print(\"\\n=== Final Best Solution ===\")\n",
    "    print(f\"x = {best_solution:.4f}, fitness = {best_fitness:.4f}\")"
   ]
  },
  {
   "cell_type": "code",
   "execution_count": null,
   "id": "886d71cd",
   "metadata": {},
   "outputs": [],
   "source": []
  },
  {
   "cell_type": "code",
   "execution_count": null,
   "id": "c786bebb",
   "metadata": {},
   "outputs": [],
   "source": []
  },
  {
   "cell_type": "code",
   "execution_count": null,
   "id": "ca72e4b2",
   "metadata": {},
   "outputs": [],
   "source": []
  },
  {
   "cell_type": "code",
   "execution_count": null,
   "id": "93f1b482",
   "metadata": {},
   "outputs": [],
   "source": []
  },
  {
   "cell_type": "markdown",
   "id": "3ba44741",
   "metadata": {},
   "source": [
    "# 7 AIPR"
   ]
  },
  {
   "cell_type": "code",
   "execution_count": 4,
   "id": "b8211117",
   "metadata": {},
   "outputs": [
    {
     "name": "stdout",
     "output_type": "stream",
     "text": [
      "=== Classification Report ===\n",
      "              precision    recall  f1-score   support\n",
      "\n",
      "     Healthy       1.00      1.00      1.00        21\n",
      "     Damaged       1.00      1.00      1.00        19\n",
      "\n",
      "    accuracy                           1.00        40\n",
      "   macro avg       1.00      1.00      1.00        40\n",
      "weighted avg       1.00      1.00      1.00        40\n",
      "\n"
     ]
    }
   ],
   "source": [
    "# healthy: Generated using a normal distribution with a mean (loc) of 0.2 and a standard deviation (scale) of 0.1. These are for healthy structures.\n",
    "\n",
    "# damaged: Generated using a normal distribution with a mean of 0.8 and a standard deviation of 0.2. These are for damaged structures.\n",
    "    \n",
    "\n",
    "import numpy as np\n",
    "from sklearn.model_selection import train_test_split\n",
    "from sklearn.metrics import classification_report\n",
    "\n",
    "# getting synthetic structural data \n",
    "def generate_data(n_samples = 100):\n",
    "    healthy = np.random.normal(loc=0.2, scale=0.1, size=(n_samples//2, 10))\n",
    "    damaged = np.random.normal(loc=0.8, scale=0.2, size=(n_samples//2, 10))\n",
    "    \n",
    "    X = np.vstack((healthy, damaged)) # input feature of both\n",
    "    # label of both samples\n",
    "    y = np.array([0] * (n_samples//2) + [1] * (n_samples//2))\n",
    "    # 0=healthy, 1=damaged\n",
    "    return X, y\n",
    "\n",
    "# AIS Classifier\n",
    "class SimpleAIS:\n",
    "    def __init__(self, n_clones=5, mutation_rate=0.1, n_generations=10):\n",
    "        self.n_clones = n_clones\n",
    "        self.mutation_rate = mutation_rate\n",
    "        self.n_generations = n_generations\n",
    "\n",
    "    def affinity(self, a, b):\n",
    "        # Euclidean distance (lower = better match)\n",
    "        return np.linalg.norm(a - b)\n",
    "\n",
    "    def train(self, X, y):\n",
    "        self.memory_cells = []\n",
    "        for label in np.unique(y):\n",
    "            class_samples = X[y == label]\n",
    "            prototype = np.mean(class_samples, axis=0)\n",
    "            self.memory_cells.append((label, prototype))\n",
    "\n",
    "    def predict(self, X):\n",
    "        predictions = []\n",
    "        for sample in X:\n",
    "            distances = [self.affinity(sample, cell[1]) for cell in self.memory_cells]\n",
    "            label = self.memory_cells[np.argmin(distances)][0]\n",
    "            predictions.append(label)\n",
    "        return np.array(predictions)\n",
    "\n",
    "# Step 3: Run the model\n",
    "X, y = generate_data(200)\n",
    "X_train, X_test, y_train, y_test = train_test_split(X, y, test_size=0.2, random_state=42)\n",
    "\n",
    "model = SimpleAIS()\n",
    "model.train(X_train, y_train)\n",
    "y_pred = model.predict(X_test)\n",
    "\n",
    "print(\"=== Classification Report ===\")\n",
    "print(classification_report(y_test, y_pred, target_names=[\"Healthy\", \"Damaged\"]))    "
   ]
  },
  {
   "cell_type": "code",
   "execution_count": null,
   "id": "2dcf221a",
   "metadata": {},
   "outputs": [],
   "source": []
  },
  {
   "cell_type": "code",
   "execution_count": null,
   "id": "e5ec9158",
   "metadata": {},
   "outputs": [],
   "source": []
  },
  {
   "cell_type": "code",
   "execution_count": null,
   "id": "da9389a3",
   "metadata": {},
   "outputs": [],
   "source": []
  },
  {
   "cell_type": "markdown",
   "id": "25c9e7a7",
   "metadata": {},
   "source": [
    "# 8) \n",
    "DEAP Distributed Evolutionary Algorithms using Python"
   ]
  },
  {
   "cell_type": "code",
   "execution_count": 5,
   "id": "bf99dbbe",
   "metadata": {},
   "outputs": [],
   "source": [
    "import random\n",
    "from deap import base, creator, tools, algorithms"
   ]
  },
  {
   "cell_type": "code",
   "execution_count": 6,
   "id": "2e25b4e0",
   "metadata": {},
   "outputs": [],
   "source": [
    "def eval_func(individual):\n",
    "    return sum(x**2 for x in individual),"
   ]
  },
  {
   "cell_type": "code",
   "execution_count": 7,
   "id": "b99e34db",
   "metadata": {},
   "outputs": [],
   "source": [
    "creator.create(\"FitnessMin\", base.Fitness, weights=(-1.0,))\n",
    "creator.create(\"Individual\", list, fitness=creator.FitnessMin)"
   ]
  },
  {
   "cell_type": "code",
   "execution_count": 8,
   "id": "e94ade82",
   "metadata": {},
   "outputs": [],
   "source": [
    "toolbox = base.Toolbox()"
   ]
  },
  {
   "cell_type": "code",
   "execution_count": 9,
   "id": "41f993b4",
   "metadata": {},
   "outputs": [],
   "source": [
    "toolbox.register(\"attr_float\", random.uniform, -5.0, 5.0)\n",
    "toolbox.register(\"individual\", tools.initRepeat, creator.Individual, toolbox.attr_float, n=3)\n",
    "toolbox.register(\"population\", tools.initRepeat, list, toolbox.individual)"
   ]
  },
  {
   "cell_type": "code",
   "execution_count": 10,
   "id": "f2129a11",
   "metadata": {},
   "outputs": [],
   "source": [
    "# Evaluation function and genetic operators\n",
    "toolbox.register(\"evaluate\", eval_func)\n",
    "toolbox.register(\"mate\", tools.cxBlend, alpha=0.5)\n",
    "toolbox.register(\"mutate\", tools.mutGaussian, mu=0, sigma=1, indpb=0.2)\n",
    "toolbox.register(\"select\", tools.selTournament, tournsize=3)"
   ]
  },
  {
   "cell_type": "code",
   "execution_count": 11,
   "id": "9b6d7fad",
   "metadata": {},
   "outputs": [],
   "source": [
    "# Create population\n",
    "population = toolbox.population(n=50)"
   ]
  },
  {
   "cell_type": "code",
   "execution_count": 12,
   "id": "c5ed90fb",
   "metadata": {},
   "outputs": [],
   "source": [
    "# Genetic Algorithm parameters\n",
    "generations = 20"
   ]
  },
  {
   "cell_type": "code",
   "execution_count": 13,
   "id": "e4c8d01e",
   "metadata": {},
   "outputs": [],
   "source": [
    "# Run the algorithm\n",
    "for gen in range(generations):\n",
    "    offspring = algorithms.varAnd(population, toolbox, cxpb=0.5, mutpb=0.1)\n",
    "    \n",
    "    fits = toolbox.map(toolbox.evaluate, offspring)\n",
    "    for fit, ind in zip(fits, offspring):\n",
    "        ind.fitness.values = fit\n",
    "    \n",
    "    population = toolbox.select(offspring, k=len(population))"
   ]
  },
  {
   "cell_type": "code",
   "execution_count": 14,
   "id": "7ca65cbf",
   "metadata": {},
   "outputs": [
    {
     "name": "stdout",
     "output_type": "stream",
     "text": [
      "Best individual: [0.010183579756309182, -0.03852453600660719, -0.043813555647169024]\n",
      "Best fitness: 0.0035074728296250607\n"
     ]
    }
   ],
   "source": [
    "# Get the best individual after generations\n",
    "best_ind = tools.selBest(population, k=1)[0]\n",
    "best_fitness = best_ind.fitness.values[0]\n",
    " \n",
    "print(\"Best individual:\", best_ind)\n",
    "print(\"Best fitness:\", best_fitness)"
   ]
  },
  {
   "cell_type": "code",
   "execution_count": 15,
   "id": "4786b457",
   "metadata": {},
   "outputs": [
    {
     "name": "stdout",
     "output_type": "stream",
     "text": [
      "Best individual: [0.01, -0.039, -0.044]\n",
      "Best fitness: 0.004\n"
     ]
    }
   ],
   "source": [
    "print(\"Best individual:\", [round(val, 3) for val in best_ind])\n",
    "print(\"Best fitness:\", round(best_fitness, 3))"
   ]
  },
  {
   "cell_type": "code",
   "execution_count": null,
   "id": "141f492a",
   "metadata": {},
   "outputs": [],
   "source": []
  },
  {
   "cell_type": "code",
   "execution_count": null,
   "id": "b8b6c6fc",
   "metadata": {},
   "outputs": [],
   "source": []
  },
  {
   "cell_type": "code",
   "execution_count": null,
   "id": "8e035b87",
   "metadata": {},
   "outputs": [],
   "source": []
  },
  {
   "cell_type": "code",
   "execution_count": null,
   "id": "15a0f9c2",
   "metadata": {},
   "outputs": [],
   "source": []
  },
  {
   "cell_type": "code",
   "execution_count": null,
   "id": "3d062c4d",
   "metadata": {},
   "outputs": [],
   "source": []
  },
  {
   "cell_type": "markdown",
   "id": "6983b53c",
   "metadata": {},
   "source": [
    "# 10)\n",
    "Ant Colony for Travelling Salesman"
   ]
  },
  {
   "cell_type": "code",
   "execution_count": 37,
   "id": "b02b3103",
   "metadata": {},
   "outputs": [],
   "source": [
    "import numpy as np\n",
    "import random"
   ]
  },
  {
   "cell_type": "code",
   "execution_count": 49,
   "id": "5ec70bc2",
   "metadata": {},
   "outputs": [],
   "source": [
    "distance_matrix = np.array([\n",
    "    [0, 10, 15, 20],\n",
    "    [10, 0, 35, 25],\n",
    "    [15, 35, 0, 30],\n",
    "    [20, 25, 30, 0]\n",
    "])"
   ]
  },
  {
   "cell_type": "code",
   "execution_count": 50,
   "id": "2ad2cb40",
   "metadata": {},
   "outputs": [],
   "source": [
    "num_ants = 10\n",
    "num_iterations = 50\n",
    "evaporation_rate = 0.5\n",
    "pheromone_constant = 1.0\n",
    "heuristic_constant = 1.0"
   ]
  },
  {
   "cell_type": "code",
   "execution_count": 51,
   "id": "20b18d57",
   "metadata": {},
   "outputs": [
    {
     "name": "stderr",
     "output_type": "stream",
     "text": [
      "C:\\Users\\Neha\\AppData\\Local\\Temp\\ipykernel_21120\\2933138830.py:3: RuntimeWarning: divide by zero encountered in divide\n",
      "  visibility = 1 / distance_matrix\n"
     ]
    }
   ],
   "source": [
    "num_cities = len(distance_matrix)\n",
    "pheromone = np.ones((num_cities, num_cities))\n",
    "visibility = 1 / distance_matrix"
   ]
  },
  {
   "cell_type": "code",
   "execution_count": 52,
   "id": "2e980ac6",
   "metadata": {},
   "outputs": [],
   "source": [
    "# ACO \n",
    "\n",
    "for iteration in range(num_iterations):\n",
    "    ant_routes = []\n",
    "    for ant in range(num_ants):\n",
    "        current_city = random.randint(0, num_cities - 1)\n",
    "        visited_cities = [current_city]\n",
    "        route = [current_city]\n",
    "        \n",
    "        while len(visited_cities) < num_cities:\n",
    "            probabilities = []\n",
    "            for city in range(num_cities):\n",
    "                if city not in visited_cities:\n",
    "                    pheromone_value = pheromone[current_city][city]\n",
    "                    visibility_value = visibility[current_city][city]\n",
    "                    probability = (pheromone_value ** pheromone_constant) * (visibility_value ** heuristic_constant)\n",
    "                    probabilities.append((city, probability))\n",
    "            \n",
    "            probabilities = sorted(probabilities, key=lambda x: x[1], reverse=True)\n",
    "            selected_city = probabilities[0][0]\n",
    "            route.append(selected_city)\n",
    "            visited_cities.append(selected_city)\n",
    "            current_city = selected_city\n",
    "        \n",
    "        ant_routes.append(route)\n",
    "        \n",
    "        # Update pheromone levels\n",
    "    delta_pheromone = np.zeros((num_cities, num_cities))\n",
    "    for ant, route in enumerate(ant_routes):\n",
    "        for i in range(len(route) - 1):\n",
    "            city_a = route[i]\n",
    "            city_b = route[i + 1]\n",
    "            delta_pheromone[city_a][city_b] += 1 / distance_matrix[city_a][city_b]\n",
    "            delta_pheromone[city_b][city_a] += 1 / distance_matrix[city_a][city_b]\n",
    "    \n",
    "    pheromone = (1 - evaporation_rate) * pheromone + delta_pheromone"
   ]
  },
  {
   "cell_type": "code",
   "execution_count": 53,
   "id": "a3b515cb",
   "metadata": {},
   "outputs": [],
   "source": [
    "# Find the best route\n",
    "best_route_index = np.argmax([sum(distance_matrix[cities[i]][cities[(i + 1) % num_cities]] for i in range(num_cities)) for cities in ant_routes])\n",
    "best_route = ant_routes[best_route_index]\n",
    "shortest_distance = sum(distance_matrix[best_route[i]][best_route[(i + 1) % num_cities]] for i in range(num_cities))"
   ]
  },
  {
   "cell_type": "code",
   "execution_count": 54,
   "id": "da50e88a",
   "metadata": {},
   "outputs": [
    {
     "name": "stdout",
     "output_type": "stream",
     "text": [
      "Best route: [0, 1, 3, 2]\n",
      "Shortest distance: 80\n"
     ]
    }
   ],
   "source": [
    "print(\"Best route:\", best_route)\n",
    "print(\"Shortest distance:\", shortest_distance)"
   ]
  },
  {
   "cell_type": "code",
   "execution_count": null,
   "id": "3ba223a4",
   "metadata": {},
   "outputs": [],
   "source": []
  },
  {
   "cell_type": "code",
   "execution_count": null,
   "id": "061fce0c",
   "metadata": {},
   "outputs": [],
   "source": []
  }
 ],
 "metadata": {
  "kernelspec": {
   "display_name": "Python 3 (ipykernel)",
   "language": "python",
   "name": "python3"
  },
  "language_info": {
   "codemirror_mode": {
    "name": "ipython",
    "version": 3
   },
   "file_extension": ".py",
   "mimetype": "text/x-python",
   "name": "python",
   "nbconvert_exporter": "python",
   "pygments_lexer": "ipython3",
   "version": "3.12.0"
  }
 },
 "nbformat": 4,
 "nbformat_minor": 5
}
